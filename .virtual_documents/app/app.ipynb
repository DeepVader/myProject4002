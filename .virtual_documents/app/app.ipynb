


from adminMenu.admin_menu import adminMenu_display

adminMenu_display()




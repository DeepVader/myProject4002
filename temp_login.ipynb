{
 "cells": [
  {
   "cell_type": "code",
   "execution_count": null,
   "metadata": {},
   "outputs": [
    {
     "name": "stdout",
     "output_type": "stream",
     "text": [
      "---------------------\n",
      "Connection successful\n",
      "---------------------\n"
     ]
    }
   ],
   "source": [
    "from conn import create_connection, close_connection\n",
    "\n",
    "conn = create_connection()"
   ]
  },
  {
   "cell_type": "code",
   "execution_count": null,
   "metadata": {},
   "outputs": [],
   "source": [
    "mycursor = conn.cursor()\n",
    "\n",
    "sql = \"INSERT INTO customers (Customer_Name, Customer_Password, State, City) VALUES (%s, %s, %s, %s)\"\n",
    "val = (\"aomelet\", \"1234\", \"Goa\", \"Goa\")"
   ]
  },
  {
   "cell_type": "code",
   "execution_count": null,
   "metadata": {},
   "outputs": [],
   "source": [
    "mycursor.execute(sql, val)\n",
    "\n",
    "conn.commit()"
   ]
  },
  {
   "cell_type": "code",
   "execution_count": null,
   "metadata": {},
   "outputs": [
    {
     "name": "stdout",
     "output_type": "stream",
     "text": [
      "1 record inserted.\n",
      "1 record inserted, ID: 402\n"
     ]
    }
   ],
   "source": [
    "print(mycursor.rowcount, \"record inserted, ID:\", mycursor.lastrowid)"
   ]
  },
  {
   "cell_type": "code",
   "execution_count": 5,
   "metadata": {},
   "outputs": [
    {
     "name": "stdout",
     "output_type": "stream",
     "text": [
      "---------------------\n",
      "Connection closed\n",
      "---------------------\n"
     ]
    }
   ],
   "source": [
    "close_connection(conn)"
   ]
  }
 ],
 "metadata": {
  "kernelspec": {
   "display_name": "DADS",
   "language": "python",
   "name": "python3"
  },
  "language_info": {
   "codemirror_mode": {
    "name": "ipython",
    "version": 3
   },
   "file_extension": ".py",
   "mimetype": "text/x-python",
   "name": "python",
   "nbconvert_exporter": "python",
   "pygments_lexer": "ipython3",
   "version": "3.11.10"
  }
 },
 "nbformat": 4,
 "nbformat_minor": 2
}

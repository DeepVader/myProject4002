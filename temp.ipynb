{
 "cells": [
  {
   "cell_type": "code",
   "execution_count": 12,
   "metadata": {},
   "outputs": [],
   "source": [
    "from conn import create_connection, close_connection\n"
   ]
  },
  {
   "cell_type": "code",
   "execution_count": null,
   "metadata": {},
   "outputs": [],
   "source": [
    "val = 2\n",
    "\n",
    "sql = f\"\"\"select od.order_id, o.order_date, od.amount, od.quantity, cat.category_name, sub.subcategory_name\n",
    "from orderdetails as od\n",
    "\tJOIN orders as o\n",
    "    ON od.order_id = o.order_id\n",
    "\tJOIN subcategories as sub\n",
    "    ON  od.subcategory_id = sub.subcategory_id\n",
    "\tJOIN categories as cat\n",
    "    ON sub.category_id = cat.category_id\n",
    "WHERE o.customer_id = {val};\n",
    "\"\"\""
   ]
  },
  {
   "cell_type": "code",
   "execution_count": 14,
   "metadata": {},
   "outputs": [
    {
     "name": "stdout",
     "output_type": "stream",
     "text": [
      "---------------------\n",
      "Connection successful\n",
      "---------------------\n",
      "[(475, datetime.date(2019, 3, 21), Decimal('34.00'), 2, 'Clothing', 'Stole'), (412, datetime.date(2019, 2, 13), Decimal('21.00'), 2, 'Clothing', 'Saree'), (2, datetime.date(2018, 4, 1), Decimal('119.00'), 8, 'Clothing', 'Saree'), (2, datetime.date(2018, 4, 1), Decimal('561.00'), 3, 'Clothing', 'Saree'), (2, datetime.date(2018, 4, 1), Decimal('2617.00'), 4, 'Electronics', 'Phones'), (2, datetime.date(2018, 4, 1), Decimal('424.00'), 5, 'Electronics', 'Phones'), (2, datetime.date(2018, 4, 1), Decimal('168.00'), 2, 'Electronics', 'Phones')]\n",
      "---------------------\n",
      "Connection closed\n",
      "---------------------\n"
     ]
    }
   ],
   "source": [
    "conn = create_connection()\n",
    "\n",
    "mycursor = conn.cursor()\n",
    "\n",
    "# mycursor.execute(sql, val)\n",
    "mycursor.execute(sql)\n",
    "result = mycursor.fetchall()\n",
    "print(result)\n",
    "\n",
    "close_connection(conn)"
   ]
  },
  {
   "cell_type": "code",
   "execution_count": 15,
   "metadata": {},
   "outputs": [
    {
     "name": "stdout",
     "output_type": "stream",
     "text": [
      "(475, datetime.date(2019, 3, 21), Decimal('34.00'), 2, 'Clothing', 'Stole')\n",
      "(412, datetime.date(2019, 2, 13), Decimal('21.00'), 2, 'Clothing', 'Saree')\n",
      "(2, datetime.date(2018, 4, 1), Decimal('119.00'), 8, 'Clothing', 'Saree')\n",
      "(2, datetime.date(2018, 4, 1), Decimal('561.00'), 3, 'Clothing', 'Saree')\n",
      "(2, datetime.date(2018, 4, 1), Decimal('2617.00'), 4, 'Electronics', 'Phones')\n",
      "(2, datetime.date(2018, 4, 1), Decimal('424.00'), 5, 'Electronics', 'Phones')\n",
      "(2, datetime.date(2018, 4, 1), Decimal('168.00'), 2, 'Electronics', 'Phones')\n"
     ]
    }
   ],
   "source": [
    "for i in result:\n",
    "    print(i)"
   ]
  }
 ],
 "metadata": {
  "kernelspec": {
   "display_name": "DADS",
   "language": "python",
   "name": "python3"
  },
  "language_info": {
   "codemirror_mode": {
    "name": "ipython",
    "version": 3
   },
   "file_extension": ".py",
   "mimetype": "text/x-python",
   "name": "python",
   "nbconvert_exporter": "python",
   "pygments_lexer": "ipython3",
   "version": "3.11.10"
  }
 },
 "nbformat": 4,
 "nbformat_minor": 2
}

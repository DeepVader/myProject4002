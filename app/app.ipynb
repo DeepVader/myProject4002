{
 "cells": [
  {
   "cell_type": "markdown",
   "metadata": {},
   "source": [
    "# run app"
   ]
  },
  {
   "cell_type": "code",
   "execution_count": 1,
   "metadata": {},
   "outputs": [
    {
     "name": "stdout",
     "output_type": "stream",
     "text": [
      "         Menu: E-Commerce Data Analytics          \n",
      "==================================================\n",
      "1. Customer Details: ข้อมูลลูกค้า\n",
      "2. Customer Purchase History: ประวัติการซื้อของลูกค้า\n",
      "3. Monthly Sales Reports\n",
      "4. Manage Items\n",
      "5. Backup\n",
      "\n",
      "e. Exit\n",
      "\n",
      "==================================================\n"
     ]
    },
    {
     "name": "stdin",
     "output_type": "stream",
     "text": [
      "Please select a menu:  5\n"
     ]
    },
    {
     "name": "stdout",
     "output_type": "stream",
     "text": [
      "\n",
      "Do you want to backup database\n",
      "\n",
      "Options: [Y]es, [N]o\n"
     ]
    },
    {
     "name": "stdin",
     "output_type": "stream",
     "text": [
      "Enter your choice:  y\n"
     ]
    },
    {
     "name": "stdout",
     "output_type": "stream",
     "text": [
      "\n",
      "Backup saved to backup_20241219_141737.txt\n",
      "\n",
      "         Menu: E-Commerce Data Analytics          \n",
      "==================================================\n",
      "1. Customer Details: ข้อมูลลูกค้า\n",
      "2. Customer Purchase History: ประวัติการซื้อของลูกค้า\n",
      "3. Monthly Sales Reports\n",
      "4. Manage Items\n",
      "5. Backup\n",
      "\n",
      "e. Exit\n",
      "\n",
      "==================================================\n"
     ]
    },
    {
     "name": "stdin",
     "output_type": "stream",
     "text": [
      "Please select a menu:  e\n"
     ]
    },
    {
     "name": "stdout",
     "output_type": "stream",
     "text": [
      "\n",
      "\n",
      "                  End of program                  \n",
      "==================================================\n"
     ]
    }
   ],
   "source": [
    "from adminMenu.admin_menu import adminMenu_display\n",
    "\n",
    "adminMenu_display()"
   ]
  }
 ],
 "metadata": {
  "kernelspec": {
   "display_name": "Python 3 (ipykernel)",
   "language": "python",
   "name": "python3"
  },
  "language_info": {
   "codemirror_mode": {
    "name": "ipython",
    "version": 3
   },
   "file_extension": ".py",
   "mimetype": "text/x-python",
   "name": "python",
   "nbconvert_exporter": "python",
   "pygments_lexer": "ipython3",
   "version": "3.11.10"
  }
 },
 "nbformat": 4,
 "nbformat_minor": 4
}

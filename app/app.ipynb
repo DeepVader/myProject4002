{
 "cells": [
  {
   "cell_type": "markdown",
   "metadata": {},
   "source": [
    "# dev run app"
   ]
  },
  {
   "cell_type": "code",
   "execution_count": 1,
   "metadata": {},
   "outputs": [
    {
     "name": "stdout",
     "output_type": "stream",
     "text": [
      "         Menu: E-Commerce Data Analytics          \n",
      "==================================================\n",
      "1. Customer Details\n",
      "2. Purchase History\n",
      "3. Monthly Sales Reports\n",
      "4. Manage Items\n",
      "5. Backup\n",
      "\n",
      "e. Exit\n",
      "\n",
      "==================================================\n"
     ]
    },
    {
     "name": "stdin",
     "output_type": "stream",
     "text": [
      "Please select a menu:  4\n"
     ]
    },
    {
     "name": "stdout",
     "output_type": "stream",
     "text": [
      "\n",
      "             Menu: Manage Categories              \n",
      "==================================================\n",
      "+-------------+-------------------------+\n",
      "| Category_ID |      Category_Name      |\n",
      "+-------------+-------------------------+\n",
      "|      1      |        Furniture        |\n",
      "|      2      |         Clothing        |\n",
      "|      3      |       Electronics       |\n",
      "|      6      |      new Categories     |\n",
      "|      8      |      new Categories     |\n",
      "|      9      |      new Categories     |\n",
      "|      11     |    new Categories222    |\n",
      "|      12     |    new Categories222    |\n",
      "|      13     |     new Categories13    |\n",
      "|      15     | new name Categories15 e |\n",
      "|      18     |           18rs          |\n",
      "|      19     |           ex19          |\n",
      "|      21     |          21ssd          |\n",
      "+-------------+-------------------------+\n",
      "Options: [C]reate, [U]pdate, [D]elete, [Q]uit\n",
      "\n",
      "==================================================\n"
     ]
    },
    {
     "name": "stdin",
     "output_type": "stream",
     "text": [
      "Enter your choice:  u\n"
     ]
    },
    {
     "name": "stdout",
     "output_type": "stream",
     "text": [
      "\n",
      "              [U]pdate Category Name              \n",
      "==================================================\n"
     ]
    },
    {
     "name": "stdin",
     "output_type": "stream",
     "text": [
      "Enter category ID 21\n",
      "Enter category name:  21SD exB\n"
     ]
    },
    {
     "name": "stdout",
     "output_type": "stream",
     "text": [
      "\n",
      "              Category Name Updated               \n",
      "==================================================\n",
      "+-------------+---------------+\n",
      "| Category_ID | Category_Name |\n",
      "+-------------+---------------+\n",
      "|      21     |    21SD exB   |\n",
      "+-------------+---------------+\n",
      "             Menu: Manage Categories              \n",
      "==================================================\n",
      "+-------------+-------------------------+\n",
      "| Category_ID |      Category_Name      |\n",
      "+-------------+-------------------------+\n",
      "|      1      |        Furniture        |\n",
      "|      2      |         Clothing        |\n",
      "|      3      |       Electronics       |\n",
      "|      6      |      new Categories     |\n",
      "|      8      |      new Categories     |\n",
      "|      9      |      new Categories     |\n",
      "|      11     |    new Categories222    |\n",
      "|      12     |    new Categories222    |\n",
      "|      13     |     new Categories13    |\n",
      "|      15     | new name Categories15 e |\n",
      "|      18     |           18rs          |\n",
      "|      19     |           ex19          |\n",
      "|      21     |         21SD exB        |\n",
      "+-------------+-------------------------+\n",
      "Options: [C]reate, [U]pdate, [D]elete, [Q]uit\n",
      "\n",
      "==================================================\n"
     ]
    },
    {
     "name": "stdin",
     "output_type": "stream",
     "text": [
      "Enter your choice:  d\n"
     ]
    },
    {
     "name": "stdout",
     "output_type": "stream",
     "text": [
      "\n",
      "               [D]elete Category ID               \n",
      "==================================================\n"
     ]
    },
    {
     "name": "stdin",
     "output_type": "stream",
     "text": [
      "Enter category ID 19\n"
     ]
    },
    {
     "name": "stdout",
     "output_type": "stream",
     "text": [
      "\n",
      "Do you want to delete the category ID: 19?\n",
      "\n",
      "Options: [Y]es, [N]o\n"
     ]
    },
    {
     "name": "stdin",
     "output_type": "stream",
     "text": [
      "Enter your choice:  y\n"
     ]
    },
    {
     "name": "stdout",
     "output_type": "stream",
     "text": [
      "\n",
      "              Category ID:19 Deleted              \n",
      "==================================================\n",
      "+-------------+-------------------------+\n",
      "| Category_ID |      Category_Name      |\n",
      "+-------------+-------------------------+\n",
      "|      1      |        Furniture        |\n",
      "|      2      |         Clothing        |\n",
      "|      3      |       Electronics       |\n",
      "|      6      |      new Categories     |\n",
      "|      8      |      new Categories     |\n",
      "|      9      |      new Categories     |\n",
      "|      11     |    new Categories222    |\n",
      "|      12     |    new Categories222    |\n",
      "|      13     |     new Categories13    |\n",
      "|      15     | new name Categories15 e |\n",
      "|      18     |           18rs          |\n",
      "|      21     |         21SD exB        |\n",
      "+-------------+-------------------------+\n",
      "             Menu: Manage Categories              \n",
      "==================================================\n",
      "+-------------+-------------------------+\n",
      "| Category_ID |      Category_Name      |\n",
      "+-------------+-------------------------+\n",
      "|      1      |        Furniture        |\n",
      "|      2      |         Clothing        |\n",
      "|      3      |       Electronics       |\n",
      "|      6      |      new Categories     |\n",
      "|      8      |      new Categories     |\n",
      "|      9      |      new Categories     |\n",
      "|      11     |    new Categories222    |\n",
      "|      12     |    new Categories222    |\n",
      "|      13     |     new Categories13    |\n",
      "|      15     | new name Categories15 e |\n",
      "|      18     |           18rs          |\n",
      "|      21     |         21SD exB        |\n",
      "+-------------+-------------------------+\n",
      "Options: [C]reate, [U]pdate, [D]elete, [Q]uit\n",
      "\n",
      "==================================================\n"
     ]
    },
    {
     "name": "stdin",
     "output_type": "stream",
     "text": [
      "Enter your choice:  q\n"
     ]
    },
    {
     "name": "stdout",
     "output_type": "stream",
     "text": [
      "\n",
      "         Menu: E-Commerce Data Analytics          \n",
      "==================================================\n",
      "1. Customer Details\n",
      "2. Purchase History\n",
      "3. Monthly Sales Reports\n",
      "4. Manage Items\n",
      "5. Backup\n",
      "\n",
      "e. Exit\n",
      "\n",
      "==================================================\n"
     ]
    },
    {
     "name": "stdin",
     "output_type": "stream",
     "text": [
      "Please select a menu:  5\n"
     ]
    },
    {
     "name": "stdout",
     "output_type": "stream",
     "text": [
      "\n",
      "Do you want to backup database\n",
      "\n",
      "Options: [Y]es, [N]o\n"
     ]
    },
    {
     "name": "stdin",
     "output_type": "stream",
     "text": [
      "Enter your choice:  y\n"
     ]
    },
    {
     "name": "stdout",
     "output_type": "stream",
     "text": [
      "\n",
      "Backup saved to backup_20241219_154645.txt\n",
      "\n",
      "         Menu: E-Commerce Data Analytics          \n",
      "==================================================\n",
      "1. Customer Details\n",
      "2. Purchase History\n",
      "3. Monthly Sales Reports\n",
      "4. Manage Items\n",
      "5. Backup\n",
      "\n",
      "e. Exit\n",
      "\n",
      "==================================================\n"
     ]
    },
    {
     "name": "stdin",
     "output_type": "stream",
     "text": [
      "Please select a menu:  e\n"
     ]
    },
    {
     "name": "stdout",
     "output_type": "stream",
     "text": [
      "\n",
      "                  End of program                  \n",
      "==================================================\n"
     ]
    }
   ],
   "source": [
    "from adminMenu.admin_menu import adminMenu_display\n",
    "\n",
    "adminMenu_display()"
   ]
  },
  {
   "cell_type": "code",
   "execution_count": 2,
   "metadata": {},
   "outputs": [],
   "source": [
    "# time | action(c, u, d) | id | old val (u, d) | new val (c, u)"
   ]
  }
 ],
 "metadata": {
  "kernelspec": {
   "display_name": "Python 3 (ipykernel)",
   "language": "python",
   "name": "python3"
  },
  "language_info": {
   "codemirror_mode": {
    "name": "ipython",
    "version": 3
   },
   "file_extension": ".py",
   "mimetype": "text/x-python",
   "name": "python",
   "nbconvert_exporter": "python",
   "pygments_lexer": "ipython3",
   "version": "3.11.10"
  }
 },
 "nbformat": 4,
 "nbformat_minor": 4
}

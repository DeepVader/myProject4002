{
 "cells": [
  {
   "cell_type": "markdown",
   "metadata": {},
   "source": [
    "# run app"
   ]
  },
  {
   "cell_type": "code",
   "execution_count": 1,
   "metadata": {},
   "outputs": [
    {
     "name": "stdout",
     "output_type": "stream",
     "text": [
      "         Menu: E-Commerce Data Analytics          \n",
      "==================================================\n",
      "1. Customer Details: ข้อมูลลูกค้า\n",
      "2. Customer Purchase History: ประวัติการซื้อของลูกค้า\n",
      "3. Monthly Sales Reports\n",
      "4. Manage Items\n",
      "\n",
      "e. Exit\n",
      "\n",
      "==================================================\n"
     ]
    },
    {
     "name": "stdin",
     "output_type": "stream",
     "text": [
      "Please select a menu:  4\n"
     ]
    },
    {
     "name": "stdout",
     "output_type": "stream",
     "text": [
      "\n",
      "             Menu: Manage Categories              \n",
      "==================================================\n",
      "+-------------+-------------------------+\n",
      "| Category_ID |      Category_Name      |\n",
      "+-------------+-------------------------+\n",
      "|      1      |        Furniture        |\n",
      "|      2      |         Clothing        |\n",
      "|      3      |       Electronics       |\n",
      "|      5      |           na5           |\n",
      "|      6      |      new Categories     |\n",
      "|      8      |      new Categories     |\n",
      "|      9      |      new Categories     |\n",
      "|      10     |    new Categories222    |\n",
      "|      11     |    new Categories222    |\n",
      "|      12     |    new Categories222    |\n",
      "|      13     |     new Categories13    |\n",
      "|      15     | new name Categories15 e |\n",
      "|      18     |           18rs          |\n",
      "+-------------+-------------------------+\n",
      "Options: [C]reate, [U]pdate, [D]elete, [Q]uit\n",
      "\n",
      "==================================================\n"
     ]
    },
    {
     "name": "stdin",
     "output_type": "stream",
     "text": [
      "Enter your choice:  u\n"
     ]
    },
    {
     "name": "stdout",
     "output_type": "stream",
     "text": [
      "\n",
      "              [U]pdate Category Name              \n",
      "==================================================\n"
     ]
    },
    {
     "name": "stdin",
     "output_type": "stream",
     "text": [
      "Enter category ID 502\n",
      "Enter category name:  ssa\n"
     ]
    },
    {
     "name": "stdout",
     "output_type": "stream",
     "text": [
      "\n",
      "                      Error!                      \n",
      "==================================================\n",
      "No data available.\n",
      "\n",
      "             Menu: Manage Categories              \n",
      "==================================================\n",
      "+-------------+-------------------------+\n",
      "| Category_ID |      Category_Name      |\n",
      "+-------------+-------------------------+\n",
      "|      1      |        Furniture        |\n",
      "|      2      |         Clothing        |\n",
      "|      3      |       Electronics       |\n",
      "|      5      |           na5           |\n",
      "|      6      |      new Categories     |\n",
      "|      8      |      new Categories     |\n",
      "|      9      |      new Categories     |\n",
      "|      10     |    new Categories222    |\n",
      "|      11     |    new Categories222    |\n",
      "|      12     |    new Categories222    |\n",
      "|      13     |     new Categories13    |\n",
      "|      15     | new name Categories15 e |\n",
      "|      18     |           18rs          |\n",
      "+-------------+-------------------------+\n",
      "Options: [C]reate, [U]pdate, [D]elete, [Q]uit\n",
      "\n",
      "==================================================\n"
     ]
    },
    {
     "name": "stdin",
     "output_type": "stream",
     "text": [
      "Enter your choice:  q\n"
     ]
    },
    {
     "name": "stdout",
     "output_type": "stream",
     "text": [
      "\n",
      "         Menu: E-Commerce Data Analytics          \n",
      "==================================================\n",
      "1. Customer Details: ข้อมูลลูกค้า\n",
      "2. Customer Purchase History: ประวัติการซื้อของลูกค้า\n",
      "3. Monthly Sales Reports\n",
      "4. Manage Items\n",
      "\n",
      "e. Exit\n",
      "\n",
      "==================================================\n"
     ]
    },
    {
     "name": "stdin",
     "output_type": "stream",
     "text": [
      "Please select a menu:  e\n"
     ]
    },
    {
     "name": "stdout",
     "output_type": "stream",
     "text": [
      "\n",
      "\n",
      "                  End of program                  \n",
      "==================================================\n"
     ]
    }
   ],
   "source": [
    "from adminMenu.admin_menu import adminMenu_display\n",
    "\n",
    "adminMenu_display()"
   ]
  }
 ],
 "metadata": {
  "kernelspec": {
   "display_name": "Python 3 (ipykernel)",
   "language": "python",
   "name": "python3"
  },
  "language_info": {
   "codemirror_mode": {
    "name": "ipython",
    "version": 3
   },
   "file_extension": ".py",
   "mimetype": "text/x-python",
   "name": "python",
   "nbconvert_exporter": "python",
   "pygments_lexer": "ipython3",
   "version": "3.11.10"
  }
 },
 "nbformat": 4,
 "nbformat_minor": 4
}

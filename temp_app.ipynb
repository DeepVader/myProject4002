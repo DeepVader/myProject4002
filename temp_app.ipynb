{
  "nbformat": 4,
  "nbformat_minor": 0,
  "metadata": {
    "colab": {
      "provenance": [],
      "authorship_tag": "ABX9TyPNQUXk5ZY6bemy1yZez577",
      "include_colab_link": true
    },
    "kernelspec": {
      "name": "python3",
      "display_name": "Python 3"
    },
    "language_info": {
      "name": "python"
    }
  },
  "cells": [
    {
      "cell_type": "markdown",
      "metadata": {
        "id": "view-in-github",
        "colab_type": "text"
      },
      "source": [
        "<a href=\"https://colab.research.google.com/github/DeepVader/myProject4002/blob/main/temp_app.ipynb\" target=\"_parent\"><img src=\"https://colab.research.google.com/assets/colab-badge.svg\" alt=\"Open In Colab\"/></a>"
      ]
    },
    {
      "cell_type": "markdown",
      "source": [
        "# app 1"
      ],
      "metadata": {
        "id": "vYUnHezoKua_"
      }
    },
    {
      "cell_type": "code",
      "source": [
        "def main_menu():\n",
        "    cart = []  # สร้างตะกร้าสินค้า\n",
        "    while True:\n",
        "        print(\"เมนูหลัก\")\n",
        "        print(\"1. เลือกสินค้า\")\n",
        "        print(\"2. ดูตะกร้า\")\n",
        "        print(\"3. จ่ายตัง\")\n",
        "        choice = input(\"เลือกตัวเลือก: \")\n",
        "\n",
        "        if choice == '1':\n",
        "            select_product(cart)\n",
        "        elif choice == '2':\n",
        "            view_cart(cart)\n",
        "        elif choice == '3':\n",
        "            checkout(cart)\n",
        "            break  # เมื่อจ่ายตังและยืนยันแล้วจะออกจากโปรแกรม\n",
        "        else:\n",
        "            print(\"กรุณาเลือกตัวเลือกที่ถูกต้อง!\")"
      ],
      "metadata": {
        "id": "BexTZugKJm0S"
      },
      "execution_count": 2,
      "outputs": []
    },
    {
      "cell_type": "code",
      "source": [
        "def select_product(cart):\n",
        "    while True:\n",
        "        print(\"\\nเลือกสินค้า\")\n",
        "        print(\"1. โทรศัพท์\")\n",
        "        print(\"2. หนังสือ\")\n",
        "        print(\"3. กลับไปเมนูเดิม\")\n",
        "        choice = input(\"เลือกตัวเลือก: \")\n",
        "\n",
        "        if choice == '1':\n",
        "            quantity = int(input(\"กรุณากรอกจำนวนโทรศัพท์ที่ต้องการ: \"))\n",
        "            cart.append(('โทรศัพท์', quantity))\n",
        "            print(f\"คุณเลือกโทรศัพท์ จำนวน {quantity} เครื่อง\")\n",
        "        elif choice == '2':\n",
        "            quantity = int(input(\"กรุณากรอกจำนวนหนังสือที่ต้องการ: \"))\n",
        "            cart.append(('หนังสือ', quantity))\n",
        "            print(f\"คุณเลือกหนังสือ จำนวน {quantity} เล่ม\")\n",
        "        elif choice == '3':\n",
        "            break\n",
        "        else:\n",
        "            print(\"กรุณาเลือกตัวเลือกที่ถูกต้อง!\")"
      ],
      "metadata": {
        "id": "RJjIsKryJoK1"
      },
      "execution_count": 3,
      "outputs": []
    },
    {
      "cell_type": "code",
      "source": [
        "def view_cart(cart):\n",
        "    if cart:\n",
        "        print(\"\\nรายการในตะกร้า:\")\n",
        "        for item, quantity in cart:\n",
        "            print(f\"- {item}: {quantity} ชิ้น\")\n",
        "    else:\n",
        "        print(\"\\nตะกร้ายังว่างอยู่\")\n",
        "    input(\"\\nกด Enter เพื่อกลับไปยังเมนูหลัก...\")"
      ],
      "metadata": {
        "id": "emb3Ud7KJppY"
      },
      "execution_count": 4,
      "outputs": []
    },
    {
      "cell_type": "code",
      "execution_count": 5,
      "metadata": {
        "id": "NJ2lm_sn-2jM"
      },
      "outputs": [],
      "source": [
        "def checkout(cart):\n",
        "    if not cart:\n",
        "        print(\"ตะกร้าว่าง! กรุณาเลือกสินค้าก่อน.\")\n",
        "        return\n",
        "    print(\"\\nรายการสินค้าที่จะจ่ายตัง:\")\n",
        "    total_price = 0\n",
        "    for item, quantity in cart:\n",
        "        if item == 'โทรศัพท์':\n",
        "            total_price += quantity * 10000  # ราคาโทรศัพท์ 10,000 บาท\n",
        "        elif item == 'หนังสือ':\n",
        "            total_price += quantity * 300  # ราคาหนังสือ 300 บาท\n",
        "        print(f\"- {item}: {quantity} ชิ้น\")\n",
        "\n",
        "    print(f\"\\nรวมยอดทั้งหมด: {total_price} บาท\")\n",
        "    choice = input(\"ต้องการยืนยันการจ่ายเงินหรือไม่? (1: ยืนยัน / 2: กลับไปเมนูเดิม): \")\n",
        "\n",
        "    if choice == '1':\n",
        "        print(\"ยืนยันการจ่ายเงินแล้ว ขอบคุณที่ใช้บริการ!\")\n",
        "    elif choice == '2':\n",
        "        return\n",
        "    else:\n",
        "        print(\"กรุณาเลือกตัวเลือกที่ถูกต้อง!\")"
      ]
    },
    {
      "cell_type": "code",
      "source": [
        "# เริ่มต้นโปรแกรมจากเมนูหลัก\n",
        "main_menu()"
      ],
      "metadata": {
        "colab": {
          "base_uri": "https://localhost:8080/"
        },
        "id": "HwbCUcF1Jtxt",
        "outputId": "b5de329e-35ec-4100-e858-17cffc7af920"
      },
      "execution_count": 6,
      "outputs": [
        {
          "output_type": "stream",
          "name": "stdout",
          "text": [
            "เมนูหลัก\n",
            "1. เลือกสินค้า\n",
            "2. ดูตะกร้า\n",
            "3. จ่ายตัง\n",
            "เลือกตัวเลือก: 1\n",
            "\n",
            "เลือกสินค้า\n",
            "1. โทรศัพท์\n",
            "2. หนังสือ\n",
            "3. กลับไปเมนูเดิม\n",
            "เลือกตัวเลือก: 2\n",
            "กรุณากรอกจำนวนหนังสือที่ต้องการ: 5\n",
            "คุณเลือกหนังสือ จำนวน 5 เล่ม\n",
            "\n",
            "เลือกสินค้า\n",
            "1. โทรศัพท์\n",
            "2. หนังสือ\n",
            "3. กลับไปเมนูเดิม\n",
            "เลือกตัวเลือก: 1\n",
            "กรุณากรอกจำนวนโทรศัพท์ที่ต้องการ: 1\n",
            "คุณเลือกโทรศัพท์ จำนวน 1 เครื่อง\n",
            "\n",
            "เลือกสินค้า\n",
            "1. โทรศัพท์\n",
            "2. หนังสือ\n",
            "3. กลับไปเมนูเดิม\n",
            "เลือกตัวเลือก: 2\n",
            "กรุณากรอกจำนวนหนังสือที่ต้องการ: 2\n",
            "คุณเลือกหนังสือ จำนวน 2 เล่ม\n",
            "\n",
            "เลือกสินค้า\n",
            "1. โทรศัพท์\n",
            "2. หนังสือ\n",
            "3. กลับไปเมนูเดิม\n",
            "เลือกตัวเลือก: 3\n",
            "เมนูหลัก\n",
            "1. เลือกสินค้า\n",
            "2. ดูตะกร้า\n",
            "3. จ่ายตัง\n",
            "เลือกตัวเลือก: 2\n",
            "\n",
            "รายการในตะกร้า:\n",
            "- หนังสือ: 5 ชิ้น\n",
            "- โทรศัพท์: 1 ชิ้น\n",
            "- หนังสือ: 2 ชิ้น\n",
            "\n",
            "กด Enter เพื่อกลับไปยังเมนูหลัก...\n",
            "เมนูหลัก\n",
            "1. เลือกสินค้า\n",
            "2. ดูตะกร้า\n",
            "3. จ่ายตัง\n",
            "เลือกตัวเลือก: 3\n",
            "\n",
            "รายการสินค้าที่จะจ่ายตัง:\n",
            "- หนังสือ: 5 ชิ้น\n",
            "- โทรศัพท์: 1 ชิ้น\n",
            "- หนังสือ: 2 ชิ้น\n",
            "\n",
            "รวมยอดทั้งหมด: 12100 บาท\n",
            "ต้องการยืนยันการจ่ายเงินหรือไม่? (1: ยืนยัน / 2: กลับไปเมนูเดิม): 1\n",
            "ยืนยันการจ่ายเงินแล้ว ขอบคุณที่ใช้บริการ!\n"
          ]
        }
      ]
    },
    {
      "cell_type": "markdown",
      "source": [
        "# app 2"
      ],
      "metadata": {
        "id": "J74_2sujKy58"
      }
    },
    {
      "cell_type": "code",
      "source": [
        "def show_payment_menu():\n",
        "    print(\"จ่ายตัง:\")\n",
        "    print(\"1. ยืนยัน\")\n",
        "    print(\"2. กลับไปเมนูเดิม\")\n",
        "    print()\n",
        "\n",
        "\n",
        "def make_payment(cart):\n",
        "    total_price = 0\n",
        "    for product, quantity in cart.items():\n",
        "        if product == \"Phone\":\n",
        "            total_price += 100 * quantity\n",
        "        elif product == \"Book\":\n",
        "            total_price += 20 * quantity\n",
        "\n",
        "    print(f\"ยอดรวม: {total_price} บาท\")\n",
        "    show_payment_menu()\n",
        "\n",
        "    while True:\n",
        "        choice = input(\"กรุณาเลือกเมนู (1-2): \")\n",
        "        print(\"=\"*20)\n",
        "        if choice == \"1\":\n",
        "            print(\"การชำระเงินเสร็จสิ้น ขอบคุณที่ใช้บริการ!\")\n",
        "            return True\n",
        "        elif choice == \"2\":\n",
        "            break\n",
        "        else:\n",
        "            print(\"เลือกไม่ถูกต้อง, กรุณาลองใหม่\")\n",
        "    return False"
      ],
      "metadata": {
        "id": "87-sxHEjK4WC"
      },
      "execution_count": 1,
      "outputs": []
    },
    {
      "cell_type": "code",
      "source": [
        "def show_cart_menu():\n",
        "    print(\"ดูตะกร้า:\")\n",
        "    print(\"1. แก้ไขยอด\")\n",
        "    print(\"2. กลับไปเมนูเดิม\")\n",
        "    print()\n",
        "\n",
        "\n",
        "def view_cart(cart):\n",
        "    if not cart:\n",
        "        print(\"ตะกร้าของคุณว่างเปล่า.\")\n",
        "    else:\n",
        "        print(\"รายการสินค้าที่เลือก:\")\n",
        "        for product, quantity in cart.items():\n",
        "            print(f\"{product}: {quantity} ชิ้น\")\n",
        "        show_cart_menu()\n",
        "\n",
        "        while True:\n",
        "            choice = input(\"กรุณาเลือกเมนู (1-2): \")\n",
        "            print(\"=\"*20)\n",
        "            if choice == \"1\":\n",
        "                edit_cart(cart)\n",
        "                break\n",
        "            elif choice == \"2\":\n",
        "                break\n",
        "            else:\n",
        "                print(\"เลือกไม่ถูกต้อง, กรุณาลองใหม่\")\n",
        "\n",
        "\n",
        "def edit_cart(cart):\n",
        "    print(\"แก้ไขยอดสินค้า:\")\n",
        "    if not cart:\n",
        "        print(\"ตะกร้าว่าง ไม่มีสินค้าที่จะแก้ไข\")\n",
        "        return\n",
        "\n",
        "    # แสดงรายการสินค้าที่มีในตะกร้า\n",
        "    print(\"สินค้าที่มีในตะกร้า:\")\n",
        "    for idx, product in enumerate(cart.keys(), 1):\n",
        "        print(f\"{idx}. {product}: {cart[product]} ชิ้น\")\n",
        "\n",
        "    try:\n",
        "        # ให้ผู้ใช้เลือกสินค้าที่ต้องการแก้ไข\n",
        "        choice = int(input(\"กรุณาเลือกสินค้าที่จะแก้ไข (เลือกหมายเลข): \"))\n",
        "        print(\"=\"*20)\n",
        "        if choice < 1 or choice > len(cart):\n",
        "            print(\"เลือกไม่ถูกต้อง\")\n",
        "            return\n",
        "\n",
        "        # หาสินค้าที่เลือก\n",
        "        product_to_edit = list(cart.keys())[choice - 1]\n",
        "        quantity = int(input(f\"กรุณาระบุจำนวนใหม่ของ {product_to_edit}: \"))\n",
        "        print(\"=\"*20)\n",
        "        cart[product_to_edit] = quantity\n",
        "    except ValueError:\n",
        "        print(\"กรุณาเลือกหมายเลขที่ถูกต้อง\")"
      ],
      "metadata": {
        "id": "LItKeXSbK3h_"
      },
      "execution_count": 2,
      "outputs": []
    },
    {
      "cell_type": "code",
      "source": [
        "def show_product_menu():\n",
        "    # ข้อมูลสินค้าเป็น tuple (name, price)\n",
        "    products = [(\"Phone\", 100), (\"Book\", 20)]\n",
        "\n",
        "    print(\"เลือกสินค้า:\")\n",
        "    for index, (name, price) in enumerate(products, 1):\n",
        "        print(f\"{index}. {name} ราคา {price} บาท\")\n",
        "\n",
        "    print(\"3. กลับไปเมนูเดิม\")\n",
        "    print()\n",
        "\n",
        "\n",
        "def add_product_to_cart(cart):\n",
        "    # ข้อมูลสินค้าเป็น tuple (name, price)\n",
        "    products = [(\"Phone\", 100), (\"Book\", 20)]\n",
        "\n",
        "    while True:\n",
        "        # แสดงเมนูสินค้า\n",
        "        print(\"เลือกสินค้า:\")\n",
        "        for index, (name, price) in enumerate(products, 1):\n",
        "            print(f\"{index}. {name} ราคา {price} บาท\")\n",
        "        print(\"3. กลับไปเมนูเดิม\")\n",
        "\n",
        "        # รับค่าการเลือกจากผู้ใช้\n",
        "        choice = input(\"กรุณาเลือกสินค้า (1-3): \")\n",
        "\n",
        "        if choice == \"1\" or choice == \"2\":\n",
        "            # ตรวจสอบว่าเลือกสินค้าใด\n",
        "            product_name, price = products[int(choice) - 1]\n",
        "            print(\"=\"*20)\n",
        "            quantity = int(input(f\"กรุณาระบุจำนวน {product_name}: \"))\n",
        "            print(\"=\"*20)\n",
        "\n",
        "            # เพิ่มสินค้าลงในตะกร้า\n",
        "            cart[product_name] = cart.get(product_name, 0) + quantity\n",
        "        elif choice == \"3\":\n",
        "            break\n",
        "        else:\n",
        "            print(\"เลือกไม่ถูกต้อง, กรุณาลองใหม่\")"
      ],
      "metadata": {
        "id": "v45MHrS7K2lj"
      },
      "execution_count": 3,
      "outputs": []
    },
    {
      "cell_type": "code",
      "source": [
        "def show_main_menu():\n",
        "    # สร้างเมนูหลักในรูปแบบ dictionary\n",
        "    menu = {\n",
        "        1: \"เลือกสินค้า\",\n",
        "        2: \"ดูตะกร้า\",\n",
        "        3: \"จ่ายตัง\",\n",
        "        0: \"ออกจากโปรแกรม\"\n",
        "    }\n",
        "\n",
        "    print(\"เมนูหลัก:\")\n",
        "    for number, name in menu.items():\n",
        "        print(f\"{number}. {name}\")\n",
        "    print()\n",
        "\n",
        "\n",
        "def main():\n",
        "    cart = {}\n",
        "    while True:\n",
        "        show_main_menu()\n",
        "        choice = input(\"กรุณาเลือกเมนู (1-3 หรือ 0 เพื่อออก): \")\n",
        "        print(\"=\"*20)\n",
        "\n",
        "        if choice == \"1\":\n",
        "            add_product_to_cart(cart)\n",
        "        elif choice == \"2\":\n",
        "            view_cart(cart)\n",
        "        elif choice == \"3\":\n",
        "            if make_payment(cart):\n",
        "                break\n",
        "        elif choice == \"0\":\n",
        "            print(\"ขอบคุณที่ใช้บริการ! ออกโปรแกรมแล้ว.\")\n",
        "            break\n",
        "        else:\n",
        "            print(\"เลือกไม่ถูกต้อง, กรุณาลองใหม่\")"
      ],
      "metadata": {
        "id": "EmCo_2XLK1yC"
      },
      "execution_count": 4,
      "outputs": []
    },
    {
      "cell_type": "code",
      "source": [
        "main()"
      ],
      "metadata": {
        "colab": {
          "base_uri": "https://localhost:8080/"
        },
        "id": "b5R519ldK9VO",
        "outputId": "382f6874-f076-4075-a9b8-5fefeb9fce76"
      },
      "execution_count": 5,
      "outputs": [
        {
          "output_type": "stream",
          "name": "stdout",
          "text": [
            "เมนูหลัก:\n",
            "1. เลือกสินค้า\n",
            "2. ดูตะกร้า\n",
            "3. จ่ายตัง\n",
            "0. ออกจากโปรแกรม\n",
            "\n",
            "กรุณาเลือกเมนู (1-3 หรือ 0 เพื่อออก): 1\n",
            "====================\n",
            "เลือกสินค้า:\n",
            "1. Phone ราคา 100 บาท\n",
            "2. Book ราคา 20 บาท\n",
            "3. กลับไปเมนูเดิม\n",
            "กรุณาเลือกสินค้า (1-3): 2\n",
            "====================\n",
            "กรุณาระบุจำนวน Book: 3\n",
            "====================\n",
            "เลือกสินค้า:\n",
            "1. Phone ราคา 100 บาท\n",
            "2. Book ราคา 20 บาท\n",
            "3. กลับไปเมนูเดิม\n",
            "กรุณาเลือกสินค้า (1-3): 1\n",
            "====================\n",
            "กรุณาระบุจำนวน Phone: 1\n",
            "====================\n",
            "เลือกสินค้า:\n",
            "1. Phone ราคา 100 บาท\n",
            "2. Book ราคา 20 บาท\n",
            "3. กลับไปเมนูเดิม\n",
            "กรุณาเลือกสินค้า (1-3): 3\n",
            "เมนูหลัก:\n",
            "1. เลือกสินค้า\n",
            "2. ดูตะกร้า\n",
            "3. จ่ายตัง\n",
            "0. ออกจากโปรแกรม\n",
            "\n",
            "กรุณาเลือกเมนู (1-3 หรือ 0 เพื่อออก): 2\n",
            "====================\n",
            "รายการสินค้าที่เลือก:\n",
            "====================\n",
            "Book: 3 ชิ้น\n",
            "Phone: 1 ชิ้น\n",
            "ดูตะกร้า:\n",
            "1. แก้ไขยอด\n",
            "2. กลับไปเมนูเดิม\n",
            "\n",
            "กรุณาเลือกเมนู (1-2): 1\n",
            "====================\n",
            "แก้ไขยอดสินค้า:\n",
            "สินค้าที่มีในตะกร้า:\n",
            "1. Book: 3 ชิ้น\n",
            "2. Phone: 1 ชิ้น\n",
            "กรุณาเลือกสินค้าที่จะแก้ไข (เลือกหมายเลข): 1\n",
            "====================\n",
            "กรุณาระบุจำนวนใหม่ของ Book: 4\n",
            "====================\n",
            "เมนูหลัก:\n",
            "1. เลือกสินค้า\n",
            "2. ดูตะกร้า\n",
            "3. จ่ายตัง\n",
            "0. ออกจากโปรแกรม\n",
            "\n",
            "กรุณาเลือกเมนู (1-3 หรือ 0 เพื่อออก): 3\n",
            "====================\n",
            "ยอดรวม: 180 บาท\n",
            "จ่ายตัง:\n",
            "1. ยืนยัน\n",
            "2. กลับไปเมนูเดิม\n",
            "\n",
            "กรุณาเลือกเมนู (1-2): 2\n",
            "====================\n",
            "เมนูหลัก:\n",
            "1. เลือกสินค้า\n",
            "2. ดูตะกร้า\n",
            "3. จ่ายตัง\n",
            "0. ออกจากโปรแกรม\n",
            "\n",
            "กรุณาเลือกเมนู (1-3 หรือ 0 เพื่อออก): 0\n",
            "====================\n",
            "ขอบคุณที่ใช้บริการ! ออกโปรแกรมแล้ว.\n"
          ]
        }
      ]
    }
  ]
}
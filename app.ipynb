{
 "cells": [
  {
   "cell_type": "markdown",
   "metadata": {},
   "source": [
    "# welcome"
   ]
  },
  {
   "cell_type": "code",
   "execution_count": 1,
   "metadata": {},
   "outputs": [],
   "source": [
    "def welcomePage():\n",
    "    print(\"=\"*50)\n",
    "    print(\" \"*15 + \"Welcome to D Company\" + \" \"*15)\n",
    "\n",
    "\n",
    "# welcomePage()"
   ]
  },
  {
   "cell_type": "markdown",
   "metadata": {},
   "source": [
    "# login"
   ]
  },
  {
   "cell_type": "code",
   "execution_count": 2,
   "metadata": {},
   "outputs": [],
   "source": [
    "from getpass import getpass\n",
    "\n",
    "# login\n",
    "def login():\n",
    "    # is_correct = False count 3 Back to mainMenu()\n",
    "    while True:\n",
    "        print(\"=\"*50)\n",
    "        print(\"Login:\")\n",
    "\n",
    "        # input\n",
    "        print()\n",
    "        # user = input(\"_user: \")\n",
    "        # password = getpass(\"_password: \")\n",
    "        user = \"aomelet\"\n",
    "        password = \"*****\"\n",
    "        print(f\"_user: {user}\")\n",
    "        print(f\"_password: {password}\")\n",
    "        print(\"=\"*50)\n",
    "\n",
    "        # conditions\n",
    "        is_correct = True\n",
    "        if is_correct == True:\n",
    "            print()\n",
    "            print(\"Login successful!\")\n",
    "            break\n",
    "        elif is_correct == False:\n",
    "            print(\"Invalid username or password!\")\n",
    "            # login()\n",
    "            break\n",
    "\n",
    "\n",
    "# login()"
   ]
  },
  {
   "cell_type": "markdown",
   "metadata": {},
   "source": [
    "# main menu"
   ]
  },
  {
   "cell_type": "code",
   "execution_count": 3,
   "metadata": {},
   "outputs": [],
   "source": [
    "# main menu\n",
    "def mainMenu(haveHeader=True):\n",
    "    while True:\n",
    "        # haveHeader ?\n",
    "        if haveHeader: print(\"=\"*50); print(\" \"*20 + \"Main Menu\" + \" \"*20)\n",
    "\n",
    "        print(\"=\"*50)        \n",
    "        print(\"1. Login\")\n",
    "        print(\"2. Sign Up\")\n",
    "        print(\"3. Exit\")\n",
    "\n",
    "        print(\"=\"*50)\n",
    "        print(\"0. Admin\")\n",
    "        print(\"=\"*50)\n",
    "\n",
    "        # input\n",
    "        print()\n",
    "        # choice = input(\"_Select an option: \")\n",
    "        choice = \"1\"\n",
    "        print(f\"_Select an option: {choice}\")\n",
    "\n",
    "        # conditions\n",
    "        if choice == \"1\":\n",
    "            login()  # Go to login\n",
    "            break\n",
    "        elif choice == \"3\":\n",
    "            print(\"\\n\")\n",
    "            print(\"=\"*50)\n",
    "            print(\" \"*17 + \"End of program...\" + \" \"*17)\n",
    "            print(\"=\"*50)\n",
    "            break\n",
    "        else:\n",
    "            break   \n",
    "\n",
    "\n",
    "# mainMenu()"
   ]
  },
  {
   "cell_type": "markdown",
   "metadata": {},
   "source": [
    "# App"
   ]
  },
  {
   "cell_type": "code",
   "execution_count": 4,
   "metadata": {},
   "outputs": [
    {
     "name": "stdout",
     "output_type": "stream",
     "text": [
      "==================================================\n",
      "               Welcome to D Company               \n",
      "==================================================\n",
      "1. Login\n",
      "2. Sign Up\n",
      "3. Exit\n",
      "==================================================\n",
      "0. Admin\n",
      "==================================================\n",
      "\n",
      "_Select an option: 1\n",
      "==================================================\n",
      "Login:\n",
      "\n",
      "_user: aomelet\n",
      "_password: *****\n",
      "==================================================\n",
      "\n",
      "Login successful!\n"
     ]
    }
   ],
   "source": [
    "# welcome & main menu\n",
    "def app():\n",
    "    while True:\n",
    "        welcomePage()\n",
    "\n",
    "        mainMenu(haveHeader=False)\n",
    "        break\n",
    "\n",
    "\n",
    "app()"
   ]
  },
  {
   "cell_type": "code",
   "execution_count": null,
   "metadata": {},
   "outputs": [],
   "source": []
  }
 ],
 "metadata": {
  "kernelspec": {
   "display_name": "DADS",
   "language": "python",
   "name": "python3"
  },
  "language_info": {
   "codemirror_mode": {
    "name": "ipython",
    "version": 3
   },
   "file_extension": ".py",
   "mimetype": "text/x-python",
   "name": "python",
   "nbconvert_exporter": "python",
   "pygments_lexer": "ipython3",
   "version": "3.11.10"
  }
 },
 "nbformat": 4,
 "nbformat_minor": 4
}
